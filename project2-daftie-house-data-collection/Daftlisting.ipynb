{
 "cells": [
  {
   "cell_type": "markdown",
   "metadata": {},
   "source": [
    "Daftlistings library enables programmatic interaction with Daft.ie. Daft.ie has nationwide coverage and contains about 80% of the total available properties in Ireland.\n",
    "* https://github.com/AnthonyBloomer/daftlistings\n",
    "* pip install https://github.com/AnthonyBloomer/daftlistings/archive/dev.zip"
   ]
  },
  {
   "cell_type": "code",
   "execution_count": 1,
   "metadata": {},
   "outputs": [],
   "source": [
    "import pandas as pd\n",
    "import csv\n",
    "from daftlistings import Daft, Location, SearchType, PropertyType, Facility\n",
    "pd.set_option(\"display.max_columns\", None)\n",
    "pd.set_option(\"display.max_rows\", None)"
   ]
  },
  {
   "cell_type": "markdown",
   "metadata": {},
   "source": [
    "### Extract properties are listed under RESIDENTIAL_SALE"
   ]
  },
  {
   "cell_type": "code",
   "execution_count": 9,
   "metadata": {},
   "outputs": [],
   "source": [
    "# daft = Daft()\n",
    "# daft.set_search_type(SearchType.RESIDENTIAL_SALE)\n",
    "\n",
    "# listings = daft.search(max_pages=100)\n",
    "\n",
    "# # cache the listings in the local file\n",
    "# with open(\"DaftResidentialSale.txt\", \"w\") as fp:\n",
    "#     fp.writelines(\"%s\\n\" % listing.as_dict() for listing in listings)\n",
    "\n",
    "# read from the local file\n",
    "with open(\"./files/DaftResidentialSale.txt\") as fp:\n",
    "  lines = fp.readlines()\n",
    "\n",
    "properties = []\n",
    "for line in lines:\n",
    "  properties.append(eval(line))\n",
    "\n",
    "DaftResidentialSale = pd.DataFrame(properties)"
   ]
  },
  {
   "cell_type": "markdown",
   "metadata": {},
   "source": [
    "### Extract properties are listed under New Homes"
   ]
  },
  {
   "cell_type": "code",
   "execution_count": 10,
   "metadata": {},
   "outputs": [],
   "source": [
    "# daft = Daft()\n",
    "# daft.set_search_type(SearchType.NEW_HOMES)\n",
    "\n",
    "# listings = daft.search()\n",
    "\n",
    "# # cache the listings in the local file\n",
    "# with open(\"DaftNewHomes.txt\", \"w\") as fp:\n",
    "#     fp.writelines(\"%s\\n\" % listing.as_dict() for listing in listings)\n",
    "\n",
    "# read from the local file\n",
    "with open(\"./files/DaftNewHomes.txt\") as fp:\n",
    "  lines = fp.readlines()\n",
    "\n",
    "properties = []\n",
    "for line in lines:\n",
    "  properties.append(eval(line))\n",
    "\n",
    "DaftNewHomes = pd.DataFrame(properties)"
   ]
  },
  {
   "cell_type": "markdown",
   "metadata": {},
   "source": [
    "### Check duplications in ResidentialSale and NewHomes\n",
    "\n",
    "There are 7 search types according to the class SearchType(enum.Enum) in the Daftlisting library. We are interested in the residential for sale, but it is odd new homes are in a seperated category. Double chekck if residential sale and new homes do not have intersection. After eveluating duplications, merge two dataframe to have a full picture of residential sale properties.\n",
    "\n",
    "* RESIDENTIAL_SALE = \"residential-for-sale\"\n",
    "* RESIDENTIAL_RENT = \"residential-to-rent\"\n",
    "* COMMERCIAL_SALE = \"commercial-for-sale\"\n",
    "* COMMERCIAL_RENT = \"commercial-for-rent\"\n",
    "* SHARING = \"sharing\"\n",
    "* STUDENT_ACCOMMODATION = \"student-accommodation-to-share\"\n",
    "* NEW_HOMES = \"new-homes\"\n",
    "##### Remove Duplications #####\n",
    "1. Residential Sale data has duplications, remove duplicated rows after the evaluation.\n",
    "2. Same ids in residential sales and new homes are the same properties after checking \"comparison.csv\". It is safe to remove the duplications and concat two data frames. "
   ]
  },
  {
   "cell_type": "code",
   "execution_count": 11,
   "metadata": {},
   "outputs": [],
   "source": [
    "# Evaluate the duplicated rows in DaftResidentialSale\n",
    "duplicated_rows = DaftResidentialSale.duplicated(subset=['id'], keep=False)\n",
    "DaftResidentialSale[duplicated_rows].sort_values(by=\"id\")\n",
    "\n",
    "# Drop duplications in DaftResidentialSale\n",
    "DaftResidentialSale.drop_duplicates(subset=['id'], inplace=True)"
   ]
  },
  {
   "cell_type": "code",
   "execution_count": 12,
   "metadata": {},
   "outputs": [],
   "source": [
    "# Check if same ids in both DaftResidentialSale and DaftNewHomes are the same properties\n",
    "id1 = set(list(DaftResidentialSale.id))\n",
    "id2 = set(list(DaftNewHomes.id))\n",
    "same_ids = id1.intersection(id2)\n",
    "df1 = DaftResidentialSale[DaftResidentialSale.id.isin(same_ids)].sort_values(by=\"id\", ascending=False)\n",
    "df1[\"Flag\"] = 1\n",
    "df2 = DaftNewHomes[DaftNewHomes.id.isin(same_ids)].sort_values(by=\"id\", ascending=False)\n",
    "df2[\"Flag\"] = 2\n",
    "\n",
    "df3 = pd.concat([df1, df2]).sort_values(by=\"id\", ascending=False)\n",
    "df3.to_csv(\"./files/comparison.csv\") #check the comparison.csv, will find same ids mean same properties.\n"
   ]
  },
  {
   "cell_type": "code",
   "execution_count": 13,
   "metadata": {},
   "outputs": [],
   "source": [
    "# Checkign data shape\n",
    "# print(DaftResidentialSale.shape)\n",
    "# print(DaftNewHomes.shape)\n",
    "# print(len(same_ids))\n",
    "# print(DaftResidentialSale.shape[0]+DaftNewHomes.shape[0]-len(same_ids))\n",
    "\n",
    "# Concat two dataframes, and drop the duplications\n",
    "data = pd.concat([DaftResidentialSale, DaftNewHomes], ignore_index=True)\n",
    "data.drop_duplicates(subset=['id'], inplace=True)\n",
    "\n",
    "# export to a csv file\n",
    "#all residential listings in Ireland that listed on Daft.ie (date: 30/01/2022)\n",
    "data.to_csv(\"./files/Daft_residential_listings.csv\", index=False) #(5310, 31) \n"
   ]
  },
  {
   "cell_type": "markdown",
   "metadata": {},
   "source": [
    "# Filtering Sligo data only"
   ]
  },
  {
   "cell_type": "code",
   "execution_count": 14,
   "metadata": {},
   "outputs": [],
   "source": [
    "# from daftlistings import Daft, Location, SearchType, PropertyType\n",
    "\n",
    "# # daft = Daft()\n",
    "# # daft.set_location(Location.SLIGO)\n",
    "# # daft.set_search_type(SearchType.RESIDENTIAL_SALE)\n",
    "\n",
    "# # listings = daft.search()\n",
    "\n",
    "\n",
    "# # # cache the listings in the local file\n",
    "# # with open(\"DaftSligoHomes.txt\", \"w\") as fp:\n",
    "# #     fp.writelines(\"%s\\n\" % listing.as_dict() for listing in listings)\n",
    "\n",
    "# # read from the local file\n",
    "# with open(\"./files/DaftSligoHomes.txt\") as fp:\n",
    "#   lines = fp.readlines()\n",
    "\n",
    "# properties = []\n",
    "# for line in lines:\n",
    "#   properties.append(eval(line))\n",
    "\n",
    "# # export to a csv file\n",
    "# #all residential listings in Sligo, Ireland that listed on Daft.ie (date: 30/01/2022)\n",
    "# DaftSligoHomes = pd.DataFrame(properties)\n",
    "# DaftSligoHomes.to_csv(\"./files/Daft_sligo_residential_listings.csv\", index=False) #(132, 26)"
   ]
  },
  {
   "cell_type": "code",
   "execution_count": 2,
   "metadata": {},
   "outputs": [
    {
     "name": "stdout",
     "output_type": "stream",
     "text": [
      "Searching...\n",
      "Search complete. Found 175 listings.\n"
     ]
    }
   ],
   "source": [
    "import pandas as pd\n",
    "from daftlistings import Daft, Location, SearchType, PropertyType, SortType, MapVisualization\n",
    "\n",
    " \n",
    "daft = Daft()\n",
    "daft.set_location(Location.SLIGO)\n",
    "daft.set_search_type(SearchType.RESIDENTIAL_SALE)\n",
    "daft.set_sort_type(SortType.PRICE_ASC)\n",
    "\n",
    "\n",
    "listings = daft.search()\n",
    "\n",
    "# cache the listings in the local file\n",
    "with open(\"DaftSligoHomes.txt\", \"w\") as fp:\n",
    "    fp.writelines(\"%s\\n\" % listing.as_dict_for_mapping() for listing in listings)\n",
    "\n",
    "# read from the local file\n",
    "with open(\"DaftSligoHomes.txt\") as fp:\n",
    "  lines = fp.readlines()\n",
    "\n",
    "properties = []\n",
    "for line in lines:\n",
    "  properties.append(eval(line))\n",
    "\n",
    "\n",
    "# export to a csv file\n",
    "#all residential listings in Sligo, Ireland that listed on Daft.ie (date: 06/02/2022)\n",
    "DaftSligoHomes = pd.DataFrame(properties)\n",
    "DaftSligoHomes.to_csv(\"./files/Daft_sligo_residential_listings.csv\", index=False) "
   ]
  }
 ],
 "metadata": {
  "kernelspec": {
   "display_name": "Python 3",
   "language": "python",
   "name": "python3"
  },
  "language_info": {
   "codemirror_mode": {
    "name": "ipython",
    "version": 3
   },
   "file_extension": ".py",
   "mimetype": "text/x-python",
   "name": "python",
   "nbconvert_exporter": "python",
   "pygments_lexer": "ipython3",
   "version": "3.8.2"
  }
 },
 "nbformat": 4,
 "nbformat_minor": 4
}
