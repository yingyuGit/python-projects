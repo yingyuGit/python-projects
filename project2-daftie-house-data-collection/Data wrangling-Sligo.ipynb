{
 "cells": [
  {
   "cell_type": "code",
   "execution_count": 469,
   "metadata": {},
   "outputs": [],
   "source": [
    "import pandas as pd\n",
    "import numpy as np\n",
    "import seaborn as sns\n",
    "import matplotlib.pyplot as plt\n",
    "from scipy import stats\n",
    "from scipy.stats import norm\n",
    "from scipy.special import boxcox1p\n",
    "import missingno as msno\n",
    "from ast import literal_eval\n",
    "\n",
    "\n",
    "import warnings\n",
    "warnings.filterwarnings('ignore')\n",
    "\n",
    "pd.set_option(\"display.float_format\", lambda x: \"{:.3f}\".format(x)) #Limiting floats output to 3 decimal points\n",
    "pd.set_option(\"display.max_columns\", None)\n",
    "pd.set_option(\"display.max_rows\", None)\n",
    "#pd.set_option(\"display.max_colwidth\", None)"
   ]
  },
  {
   "cell_type": "code",
   "execution_count": 470,
   "metadata": {},
   "outputs": [],
   "source": [
    "df = pd.read_csv(\"./files/Sligo_residential_listings.csv\")"
   ]
  },
  {
   "cell_type": "code",
   "execution_count": 471,
   "metadata": {},
   "outputs": [
    {
     "data": {
      "text/plain": [
       "(364, 30)"
      ]
     },
     "execution_count": 471,
     "metadata": {},
     "output_type": "execute_result"
    }
   ],
   "source": [
    "df.shape"
   ]
  },
  {
   "cell_type": "code",
   "execution_count": 472,
   "metadata": {},
   "outputs": [
    {
     "data": {
      "text/plain": [
       "False"
      ]
     },
     "execution_count": 472,
     "metadata": {},
     "output_type": "execute_result"
    }
   ],
   "source": [
    "df.duplicated(subset='id').any()"
   ]
  },
  {
   "cell_type": "code",
   "execution_count": 473,
   "metadata": {},
   "outputs": [
    {
     "data": {
      "text/plain": [
       "openViewings       0.995\n",
       "priceHistory       0.984\n",
       "sticker            0.956\n",
       "prs                0.805\n",
       "image              0.805\n",
       "propertySize       0.728\n",
       "floorArea          0.728\n",
       "numBathrooms       0.646\n",
       "newHome            0.522\n",
       "propertyType       0.475\n",
       "pageBranding       0.261\n",
       "numBedrooms        0.173\n",
       "ber                0.165\n",
       "saleType           0.000\n",
       "featuredLevel      0.000\n",
       "abbreviatedPrice   0.000\n",
       "publishDate        0.000\n",
       "price              0.000\n",
       "seoTitle           0.000\n",
       "title              0.000\n",
       "sections           0.000\n",
       "media              0.000\n",
       "daftShortcode      0.000\n",
       "seller             0.000\n",
       "point              0.000\n",
       "seoFriendlyPath    0.000\n",
       "category           0.000\n",
       "state              0.000\n",
       "premierPartner     0.000\n",
       "id                 0.000\n",
       "dtype: float64"
      ]
     },
     "execution_count": 473,
     "metadata": {},
     "output_type": "execute_result"
    }
   ],
   "source": [
    "missing_percent = df.isnull().mean()\n",
    "missing_percent.sort_values(ascending=False)"
   ]
  },
  {
   "cell_type": "markdown",
   "metadata": {},
   "source": [
    "### Drop columns have more 80% missing values. \n",
    "* ['sticker', 'prs', 'image', 'priceHistory', 'offers', 'openViewings', 'newHome']\n",
    "    * sticker: won't be an important factor for the house price prediction.\n",
    "    * openViewings won't be important factors for the house price prediction.\n",
    "    * priceHistory: this might be useful if we want to compare with the current price, but most listings do not have this data. Therefore drop this column too.\n",
    "    * image: The image quality is important for a house website, but we will use other columns to determine house quality instead of images.\n",
    "   * prs: the column gathered same info in the other columns, not useful to have this column. \n",
    "        * df[~df.prs.isnull()][\"prs\"]  <--- checked with this code\n",
    "    * newHome: can be found in other column.\n",
    "\n"
   ]
  },
  {
   "cell_type": "code",
   "execution_count": 474,
   "metadata": {},
   "outputs": [],
   "source": [
    "inds = df.isnull().mean()>0.8\n",
    "drop_cols = list(inds[inds==True].index)\n",
    "df.drop(drop_cols, axis=1, inplace=True)"
   ]
  },
  {
   "cell_type": "markdown",
   "metadata": {},
   "source": [
    "### Drop duplicated or irrelevant columns to our price predictions"
   ]
  },
  {
   "cell_type": "code",
   "execution_count": 475,
   "metadata": {},
   "outputs": [],
   "source": [
    "#title and seoTile are identical, drop seoTitle\n",
    "df.drop(\"seoTitle\", axis=1, inplace=True)\n",
    "\n",
    "#saleType only has a single value \"For Sale\", not useful.\n",
    "df.saleType.unique()\n",
    "df.drop(\"saleType\", axis=1, inplace=True)\n",
    "\n",
    "#Price and abbreviatedPrice are same thing in different formats, drop abbreviatedPrice.\n",
    "df.drop(\"abbreviatedPrice\", axis=1, inplace=True)\n",
    "\n",
    "# A unique code for daft website, not useful for our price prediction.\n",
    "df.drop(\"daftShortcode\", axis=1, inplace=True)\n",
    "\n",
    "# A link path to the property page, not useful for the price prediction.\n",
    "df.drop(\"seoFriendlyPath\", axis=1, inplace=True)\n",
    "\n",
    "# Contains logo info, not useful for the price prediction.\n",
    "df.drop(\"pageBranding\", axis=1, inplace=True)\n",
    "\n",
    "# Only contains one value \"Published\", not useful.\n",
    "df.drop(\"state\", axis=1, inplace=True)\n",
    "\n",
    "# Only contains one value False, not useful.\n",
    "df.drop(\"premierPartner\", axis=1, inplace=True)\n",
    "\n",
    "# Features of new homes, homes are not new won't have these features\n",
    "df.drop(\"newHome\", axis=1, inplace=True)\n"
   ]
  },
  {
   "cell_type": "markdown",
   "metadata": {},
   "source": [
    "### Cleaning data"
   ]
  },
  {
   "cell_type": "markdown",
   "metadata": {},
   "source": [
    "#### Parse columns with string dictionary: point"
   ]
  },
  {
   "cell_type": "code",
   "execution_count": 476,
   "metadata": {},
   "outputs": [
    {
     "name": "stdout",
     "output_type": "stream",
     "text": [
      "(364, 16)\n",
      "False\n",
      "(364, 17)\n"
     ]
    }
   ],
   "source": [
    "print(df.shape)\n",
    "\n",
    "# Convert dictionary inside the \"point\" column to multiple columns\n",
    "df.point = df.point.apply(literal_eval)\n",
    "df = df.join(pd.json_normalize(df.point))\n",
    "df.drop([\"point\", \"type\"], axis=1, inplace=True)\n",
    "\n",
    "print(df.coordinates.isnull().any())\n",
    "\n",
    "# split coordinate to longitude and latitude\n",
    "df = df.join(pd.DataFrame(df.pop('coordinates').tolist(), index=df.index, columns=[\"longitude\", \"latitude\"]))\n",
    "\n",
    "print(df.shape)"
   ]
  },
  {
   "cell_type": "markdown",
   "metadata": {},
   "source": [
    "#### Parse columns with string dictionary: seller"
   ]
  },
  {
   "cell_type": "code",
   "execution_count": 477,
   "metadata": {},
   "outputs": [
    {
     "name": "stdout",
     "output_type": "stream",
     "text": [
      "(364, 20)\n"
     ]
    }
   ],
   "source": [
    "# Convert the column of stringified dicts to dicts\n",
    "df.seller = df.seller.map(literal_eval)\n",
    "# normalize the column of dictionaries and join it to df\n",
    "df = df.join(pd.json_normalize(df.seller))\n",
    "df.drop(columns=['seller'], inplace=True)\n",
    "\n",
    "# rename ber related column names for the clarity\n",
    "df.rename(columns={\"name\":\"seller_name\", \"branch\":\"seller_branch\"}, inplace=True)\n",
    "df.drop(['phone', 'profileImage', 'address', 'standardLogo', 'squareLogo', 'backgroundColour', 'licenceNumber',\n",
    "       'showContactForm', 'alternativePhone', 'phoneWhenToCall'], axis=1, inplace=True)\n",
    "\n",
    "# seller_branch has NA values because the property is dold my private users.\n",
    "df.loc[df.sellerType == 'PRIVATE_USER', \"seller_branch\"] = \"private\"\n",
    "\n",
    "# change data type\n",
    "df.sellerId = df.sellerId.astype(str)\n",
    "\n",
    "print(df.shape)"
   ]
  },
  {
   "cell_type": "markdown",
   "metadata": {},
   "source": [
    "#### Parse columns with string dictionary: media"
   ]
  },
  {
   "cell_type": "code",
   "execution_count": 478,
   "metadata": {},
   "outputs": [
    {
     "name": "stdout",
     "output_type": "stream",
     "text": [
      "(364, 23)\n"
     ]
    }
   ],
   "source": [
    "# Convert the column of stringified dicts to dicts\n",
    "df.media = df.media.apply(literal_eval)\n",
    "\n",
    "# normalize the column of dictionaries and join it to df\n",
    "df = df.join(pd.json_normalize(df.media))\n",
    "\n",
    "# drop columns from media that we do not need\n",
    "df.drop([\"media\"], axis=1, inplace=True)\n",
    "df.drop([\"images\"], axis=1, inplace=True)\n",
    "df.drop([\"brochure\"], axis=1, inplace=True)\n",
    "\n",
    "# rename media related columns names for the clarity\n",
    "df.rename(columns={\"totalImages\":\"m_totalImages\", \"hasVideo\":\"m_hasVideo\", \"hasVirtualTour\":\"m_hasVirtualTour\", \"hasBrochure\":\"m_hasBrochure\", }, inplace=True)\n",
    "\n",
    "# change data types\n",
    "\n",
    "df.m_hasVideo = df.m_hasVideo.astype(bool)\n",
    "df.m_hasBrochure = df.m_hasBrochure.astype(bool)\n",
    "df.m_hasVirtualTour = df.m_hasVirtualTour.astype(bool)\n",
    "df.m_totalImages = df.m_totalImages.astype(\"float\")\n",
    "print(df.shape)"
   ]
  },
  {
   "cell_type": "markdown",
   "metadata": {},
   "source": [
    "#### Parse columns with string dictionary: ber (Building Energy Rating)"
   ]
  },
  {
   "cell_type": "code",
   "execution_count": 479,
   "metadata": {},
   "outputs": [
    {
     "name": "stdout",
     "output_type": "stream",
     "text": [
      "(364, 23)\n"
     ]
    }
   ],
   "source": [
    "# parse the 'ber'(Building Energy Rating)column\n",
    "# More details about BER: https://www.churches.ie/faq-what-do-the-different-ber-ratings-mean/\n",
    "#df = df[df['ber'].notna()]\n",
    "# replace NaN with '{}' if the column is strings, otherwise replace with {}\n",
    "df.ber = df.ber.str.replace(\"NA\", \"XXX\")\n",
    "df.ber = df.ber.fillna('{\"rating\": \"XXX\"}')  # if the NaN is in a column of strings\n",
    "#df.ber = df.ber.fillna({i: {} for i in df.index})  # if the column is not strings\n",
    "\n",
    "df.ber = df.ber.apply(literal_eval)\n",
    "df = df.join(pd.json_normalize(df.ber))\n",
    "df.drop(columns=['ber'], inplace=True)\n",
    "\n",
    "# rename ber related column names for the clarity\n",
    "# epi stands for Energy Performance Index\n",
    "df.rename(columns={\"rating\":\"ber_rating\", \"epi\":\"ber_epi\"}, inplace=True)\n",
    "df.drop([\"code\"], axis=1, inplace=True)\n",
    "\n",
    "# epi is missing half of the data. We will use ber_rating instead to measure the Energy Rating for the building.\n",
    "df.drop([\"ber_epi\"], axis=1, inplace=True)\n",
    "\n",
    "print(df.shape)"
   ]
  },
  {
   "cell_type": "markdown",
   "metadata": {},
   "source": [
    "#### Parse columns with string dictionary: floorArea"
   ]
  },
  {
   "cell_type": "code",
   "execution_count": 480,
   "metadata": {},
   "outputs": [
    {
     "name": "stdout",
     "output_type": "stream",
     "text": [
      "(364, 24)\n"
     ]
    }
   ],
   "source": [
    "# parse the 'floorArea' column\n",
    "# replace NaN with '{}' if the column is strings, otherwise replace with {}\n",
    "df.floorArea = df.floorArea.fillna('{\"unit\": \"METRES_SQUARED\", \"value\": \"999\"}')  # if the NaN is in a column of strings\n",
    "#df.floorArea = df.floorArea.fillna({i: {} for i in df.index})  # if the column is not strings\n",
    "\n",
    "# convert string of dict to dict\n",
    "df.floorArea = df.floorArea.apply(literal_eval)\n",
    "# parse dict and join it to df\n",
    "df = df.join(pd.json_normalize(df.floorArea))\n",
    "# drop floorArea\n",
    "df.drop([\"floorArea\"], axis=1, inplace=True)\n",
    "\n",
    "# rename ber related column names for the clarity\n",
    "df.rename(columns={\"unit\":\"floorArea_unit\", \"value\":\"floorArea_size\"}, inplace=True)\n",
    "\n",
    "# convert dtype\n",
    "df.floorArea_size = df.floorArea_size.astype(\"float\")\n",
    "\n",
    "\n",
    "print(df.shape)"
   ]
  },
  {
   "cell_type": "code",
   "execution_count": 481,
   "metadata": {},
   "outputs": [
    {
     "name": "stdout",
     "output_type": "stream",
     "text": [
      "(228, 24)\n",
      "(188, 25)\n",
      "[\"['Property', 'New Homes', 'Houses']\"]\n"
     ]
    }
   ],
   "source": [
    "# convert featureLevel from all caps to lower case just for the convinience\n",
    "df.featuredLevel = df.featuredLevel.str.lower()\n",
    "\n",
    "###############PublishDate#################\n",
    "# convert publishDate from int64 to datetime format\n",
    "df[\"publishDate\"] = pd.to_datetime(df[\"publishDate\"].astype(\"str\"), utc=True, unit=\"ms\").dt.strftime(\"%Y-%m-%d\")\n",
    "\n",
    "\n",
    "###############Price#################\n",
    "# remove rows do not have price or contain pound sign. \n",
    "# four rows contained pound sign, which indicate it is not a property in Ireland.\n",
    "df = df.drop(df[df.price.str.contains(\"Price on Application\") == True].index)\n",
    "print(df.shape)\n",
    "\n",
    "# replace , € [] to blank\n",
    "df[\"price\"] = df.price.str.replace(',','').str.strip()\n",
    "df[\"price\"] = df.price.str.replace('€','').str.strip()\n",
    "df[\"price\"] = df.price.str.replace('(','').str.strip()\n",
    "df[\"price\"] = df.price.str.replace(')','').str.strip()\n",
    "df[\"price\"] = df.price.str.replace('[','').str.strip()\n",
    "df[\"price\"] = df.price.str.replace(']','').str.strip()\n",
    "df[\"price\"] = df.price.str.replace('From ','').str.strip()\n",
    "\n",
    "#AMV stands for Advides Minimum Values. Add AMV_price flag in case it is useful.\n",
    "# After marking AMV, we no longer need AMV letter in the price column, replace AMV with blank.\n",
    "df['AMV_price'] = 0\n",
    "df.loc[df[df.price.str.startswith('AMV') == True].index, 'AMV_price'] = 1\n",
    "df[\"price\"] = df.price.str.replace('AMV: ','').str.strip()\n",
    "\n",
    "df[\"price\"] = df.price.astype(int)\n",
    "\n",
    "\n",
    "###############Bedrooms&Bathrooms#################\n",
    "# drop rows with multiple property types\n",
    "temp = df[df.numBedrooms.str.contains(\"&\") == True]\n",
    "df.drop(temp.index, inplace=True)\n",
    "print(df.shape)\n",
    "\n",
    "# remove letters from the columns\n",
    "df.numBedrooms = df.numBedrooms.str.replace(r\"[^0-9]\", '', regex=True).str.strip()\n",
    "df.numBathrooms = df.numBathrooms.str.replace(r\"[^0-9]\", '', regex=True).str.strip()\n",
    "\n",
    "\n",
    "# filling nan values with one for columns numBedroos and numBathrooms\n",
    "df.numBedrooms = df.numBedrooms.fillna(1)\n",
    "df.numBathrooms = df.numBathrooms.fillna(1)\n",
    "\n",
    "# chage dtypes\n",
    "df.numBedrooms = df.numBedrooms.astype(\"int\")\n",
    "df.numBathrooms = df.numBathrooms.astype(\"int\")\n",
    "\n",
    "\n",
    "###############PropertyType#################\n",
    "# filling nan values in the propertyType column\n",
    "print(df[df.propertyType.isnull()][\"sections\"].unique())\n",
    "\n",
    "# fill propertyType based on the \"category\" column\n",
    "df.propertyType = df.propertyType.fillna(\"Houses\")\n",
    "\n",
    "# sections can be dropped as the same info presented in properyType.\n",
    "df.drop(\"sections\", axis=1, inplace=True)"
   ]
  },
  {
   "cell_type": "code",
   "execution_count": 482,
   "metadata": {},
   "outputs": [
    {
     "name": "stdout",
     "output_type": "stream",
     "text": [
      "(188, 24)\n"
     ]
    }
   ],
   "source": [
    "print(df.shape)"
   ]
  },
  {
   "cell_type": "markdown",
   "metadata": {},
   "source": [
    "#### Unit conversion in propertySize"
   ]
  },
  {
   "cell_type": "code",
   "execution_count": 483,
   "metadata": {},
   "outputs": [
    {
     "name": "stdout",
     "output_type": "stream",
     "text": [
      "(188, 25)\n",
      "(140, 25)\n"
     ]
    }
   ],
   "source": [
    "# mark rows with \"ac\" in propertySize, ac stands for Acre\n",
    "df[\"ac_flag\"] = df.propertySize.str.contains(\"ac\")\n",
    "# remove unit strings from propertySize and conver the column to float type\n",
    "df['propertySize'] = df['propertySize'].replace({'m²': '', 'ac': ''}, regex=True).astype(float)\n",
    "\n",
    "print(df.shape)\n",
    "# Acres to square meters are 4046.86, but the converted values are way bigger than the propertySize from the daft.ie websites.\n",
    "# The website also shows acres and square meters, but the conversion rate is not 4046.86.\n",
    "# As the units and the conversion rates are not consistent in the website, drop rows with acres as unit.\n",
    "inds = df[(df.floorArea_unit==\"ACRES\")|df.ac_flag==True].index\n",
    "df.drop(inds, inplace=True)\n",
    "\n",
    "# substitute flooarArea_size for propertySize NAN values\n",
    "df.loc[(df.propertySize.isnull()) & (df.floorArea_size!=999), [\"propertySize\"]] = df.floorArea_size\n",
    "\n",
    "print(df.shape)"
   ]
  },
  {
   "cell_type": "code",
   "execution_count": 484,
   "metadata": {},
   "outputs": [],
   "source": [
    "df.drop([\"floorArea_unit\", \"floorArea_size\", \"ac_flag\"], axis=1, inplace=True)"
   ]
  },
  {
   "cell_type": "markdown",
   "metadata": {},
   "source": [
    "### Export to csv"
   ]
  },
  {
   "cell_type": "code",
   "execution_count": 485,
   "metadata": {},
   "outputs": [
    {
     "name": "stdout",
     "output_type": "stream",
     "text": [
      "<class 'pandas.core.frame.DataFrame'>\n",
      "Int64Index: 140 entries, 0 to 361\n",
      "Data columns (total 22 columns):\n",
      " #   Column            Non-Null Count  Dtype  \n",
      "---  ------            --------------  -----  \n",
      " 0   id                140 non-null    int64  \n",
      " 1   title             140 non-null    object \n",
      " 2   featuredLevel     140 non-null    object \n",
      " 3   publishDate       140 non-null    object \n",
      " 4   price             140 non-null    int64  \n",
      " 5   numBedrooms       140 non-null    int64  \n",
      " 6   numBathrooms      140 non-null    int64  \n",
      " 7   propertyType      140 non-null    object \n",
      " 8   category          140 non-null    object \n",
      " 9   propertySize      40 non-null     float64\n",
      " 10  longitude         140 non-null    float64\n",
      " 11  latitude          140 non-null    float64\n",
      " 12  sellerId          140 non-null    object \n",
      " 13  seller_name       140 non-null    object \n",
      " 14  seller_branch     140 non-null    object \n",
      " 15  sellerType        140 non-null    object \n",
      " 16  m_totalImages     140 non-null    float64\n",
      " 17  m_hasVideo        140 non-null    bool   \n",
      " 18  m_hasVirtualTour  140 non-null    bool   \n",
      " 19  m_hasBrochure     140 non-null    bool   \n",
      " 20  ber_rating        140 non-null    object \n",
      " 21  AMV_price         140 non-null    int64  \n",
      "dtypes: bool(3), float64(4), int64(5), object(10)\n",
      "memory usage: 27.3+ KB\n"
     ]
    }
   ],
   "source": [
    "df.info()"
   ]
  },
  {
   "cell_type": "code",
   "execution_count": 486,
   "metadata": {},
   "outputs": [
    {
     "data": {
      "text/plain": [
       "(140, 22)"
      ]
     },
     "execution_count": 486,
     "metadata": {},
     "output_type": "execute_result"
    }
   ],
   "source": [
    "df.shape"
   ]
  },
  {
   "cell_type": "code",
   "execution_count": 487,
   "metadata": {},
   "outputs": [
    {
     "data": {
      "text/plain": [
       "id                    0\n",
       "title                 0\n",
       "featuredLevel         0\n",
       "publishDate           0\n",
       "price                 0\n",
       "numBedrooms           0\n",
       "numBathrooms          0\n",
       "propertyType          0\n",
       "category              0\n",
       "propertySize        100\n",
       "longitude             0\n",
       "latitude              0\n",
       "sellerId              0\n",
       "seller_name           0\n",
       "seller_branch         0\n",
       "sellerType            0\n",
       "m_totalImages         0\n",
       "m_hasVideo            0\n",
       "m_hasVirtualTour      0\n",
       "m_hasBrochure         0\n",
       "ber_rating            0\n",
       "AMV_price             0\n",
       "dtype: int64"
      ]
     },
     "execution_count": 487,
     "metadata": {},
     "output_type": "execute_result"
    }
   ],
   "source": [
    "df.isnull().sum()"
   ]
  },
  {
   "cell_type": "code",
   "execution_count": 488,
   "metadata": {},
   "outputs": [
    {
     "data": {
      "text/html": [
       "<div>\n",
       "<style scoped>\n",
       "    .dataframe tbody tr th:only-of-type {\n",
       "        vertical-align: middle;\n",
       "    }\n",
       "\n",
       "    .dataframe tbody tr th {\n",
       "        vertical-align: top;\n",
       "    }\n",
       "\n",
       "    .dataframe thead th {\n",
       "        text-align: right;\n",
       "    }\n",
       "</style>\n",
       "<table border=\"1\" class=\"dataframe\">\n",
       "  <thead>\n",
       "    <tr style=\"text-align: right;\">\n",
       "      <th></th>\n",
       "      <th>id</th>\n",
       "      <th>title</th>\n",
       "      <th>featuredLevel</th>\n",
       "      <th>publishDate</th>\n",
       "      <th>price</th>\n",
       "      <th>numBedrooms</th>\n",
       "      <th>numBathrooms</th>\n",
       "      <th>propertyType</th>\n",
       "      <th>category</th>\n",
       "      <th>propertySize</th>\n",
       "      <th>longitude</th>\n",
       "      <th>latitude</th>\n",
       "      <th>sellerId</th>\n",
       "      <th>seller_name</th>\n",
       "      <th>seller_branch</th>\n",
       "      <th>sellerType</th>\n",
       "      <th>m_totalImages</th>\n",
       "      <th>m_hasVideo</th>\n",
       "      <th>m_hasVirtualTour</th>\n",
       "      <th>m_hasBrochure</th>\n",
       "      <th>ber_rating</th>\n",
       "      <th>AMV_price</th>\n",
       "    </tr>\n",
       "  </thead>\n",
       "  <tbody>\n",
       "    <tr>\n",
       "      <th>354</th>\n",
       "      <td>1117985</td>\n",
       "      <td>Martello, Martello, Rushbrooke, Cobh, Co. Cork</td>\n",
       "      <td>basic</td>\n",
       "      <td>2021-09-28</td>\n",
       "      <td>345000</td>\n",
       "      <td>4</td>\n",
       "      <td>1</td>\n",
       "      <td>Houses</td>\n",
       "      <td>New Homes</td>\n",
       "      <td>nan</td>\n",
       "      <td>-8.316</td>\n",
       "      <td>51.850</td>\n",
       "      <td>2559</td>\n",
       "      <td>Paul O'Shea</td>\n",
       "      <td>Sherry FitzGerald Cork</td>\n",
       "      <td>BRANDED_AGENT</td>\n",
       "      <td>34.000</td>\n",
       "      <td>False</td>\n",
       "      <td>False</td>\n",
       "      <td>False</td>\n",
       "      <td>A3</td>\n",
       "      <td>0</td>\n",
       "    </tr>\n",
       "    <tr>\n",
       "      <th>357</th>\n",
       "      <td>1485530</td>\n",
       "      <td>Clog Na Léinn, Collinstown, Co. Westmeath</td>\n",
       "      <td>basic</td>\n",
       "      <td>2022-02-07</td>\n",
       "      <td>395000</td>\n",
       "      <td>4</td>\n",
       "      <td>1</td>\n",
       "      <td>Houses</td>\n",
       "      <td>New Homes</td>\n",
       "      <td>nan</td>\n",
       "      <td>-7.212</td>\n",
       "      <td>53.647</td>\n",
       "      <td>366</td>\n",
       "      <td>Robert Forbes</td>\n",
       "      <td>Forbes Property</td>\n",
       "      <td>BRANDED_AGENT</td>\n",
       "      <td>24.000</td>\n",
       "      <td>False</td>\n",
       "      <td>True</td>\n",
       "      <td>False</td>\n",
       "      <td>A1</td>\n",
       "      <td>0</td>\n",
       "    </tr>\n",
       "    <tr>\n",
       "      <th>358</th>\n",
       "      <td>1117980</td>\n",
       "      <td>Castle Park, Killycard, Castleblayney, Co. Mon...</td>\n",
       "      <td>basic</td>\n",
       "      <td>2022-01-14</td>\n",
       "      <td>269000</td>\n",
       "      <td>3</td>\n",
       "      <td>1</td>\n",
       "      <td>Houses</td>\n",
       "      <td>New Homes</td>\n",
       "      <td>nan</td>\n",
       "      <td>-6.754</td>\n",
       "      <td>54.115</td>\n",
       "      <td>4705</td>\n",
       "      <td>DNG John O' Brien Office</td>\n",
       "      <td>DNG John O’Brien</td>\n",
       "      <td>UNBRANDED_AGENT</td>\n",
       "      <td>14.000</td>\n",
       "      <td>True</td>\n",
       "      <td>False</td>\n",
       "      <td>False</td>\n",
       "      <td>A3</td>\n",
       "      <td>0</td>\n",
       "    </tr>\n",
       "    <tr>\n",
       "      <th>359</th>\n",
       "      <td>1118108</td>\n",
       "      <td>SeaGreen Park, Sea, Green Park, Blacklion, Gre...</td>\n",
       "      <td>basic</td>\n",
       "      <td>2022-01-31</td>\n",
       "      <td>545000</td>\n",
       "      <td>4</td>\n",
       "      <td>1</td>\n",
       "      <td>Houses</td>\n",
       "      <td>New Homes</td>\n",
       "      <td>nan</td>\n",
       "      <td>-6.086</td>\n",
       "      <td>53.146</td>\n",
       "      <td>9634</td>\n",
       "      <td>Jackie Horan</td>\n",
       "      <td>Sherry FitzGerald New Homes</td>\n",
       "      <td>BRANDED_AGENT</td>\n",
       "      <td>25.000</td>\n",
       "      <td>False</td>\n",
       "      <td>False</td>\n",
       "      <td>False</td>\n",
       "      <td>A2</td>\n",
       "      <td>0</td>\n",
       "    </tr>\n",
       "    <tr>\n",
       "      <th>361</th>\n",
       "      <td>1137830</td>\n",
       "      <td>Revington Gardens, North Circular Road, North ...</td>\n",
       "      <td>basic</td>\n",
       "      <td>2021-06-21</td>\n",
       "      <td>650000</td>\n",
       "      <td>4</td>\n",
       "      <td>1</td>\n",
       "      <td>Houses</td>\n",
       "      <td>New Homes</td>\n",
       "      <td>nan</td>\n",
       "      <td>-8.653</td>\n",
       "      <td>52.665</td>\n",
       "      <td>2299</td>\n",
       "      <td>Tom Hickey</td>\n",
       "      <td>Hickey O'Donoghue Auctioneers Ltd.</td>\n",
       "      <td>BRANDED_AGENT</td>\n",
       "      <td>38.000</td>\n",
       "      <td>False</td>\n",
       "      <td>True</td>\n",
       "      <td>False</td>\n",
       "      <td>A2</td>\n",
       "      <td>0</td>\n",
       "    </tr>\n",
       "  </tbody>\n",
       "</table>\n",
       "</div>"
      ],
      "text/plain": [
       "          id                                              title featuredLevel  \\\n",
       "354  1117985     Martello, Martello, Rushbrooke, Cobh, Co. Cork         basic   \n",
       "357  1485530          Clog Na Léinn, Collinstown, Co. Westmeath         basic   \n",
       "358  1117980  Castle Park, Killycard, Castleblayney, Co. Mon...         basic   \n",
       "359  1118108  SeaGreen Park, Sea, Green Park, Blacklion, Gre...         basic   \n",
       "361  1137830  Revington Gardens, North Circular Road, North ...         basic   \n",
       "\n",
       "    publishDate   price  numBedrooms  numBathrooms propertyType   category  \\\n",
       "354  2021-09-28  345000            4             1       Houses  New Homes   \n",
       "357  2022-02-07  395000            4             1       Houses  New Homes   \n",
       "358  2022-01-14  269000            3             1       Houses  New Homes   \n",
       "359  2022-01-31  545000            4             1       Houses  New Homes   \n",
       "361  2021-06-21  650000            4             1       Houses  New Homes   \n",
       "\n",
       "     propertySize  longitude  latitude sellerId               seller_name  \\\n",
       "354           nan     -8.316    51.850     2559               Paul O'Shea   \n",
       "357           nan     -7.212    53.647      366             Robert Forbes   \n",
       "358           nan     -6.754    54.115     4705  DNG John O' Brien Office   \n",
       "359           nan     -6.086    53.146     9634              Jackie Horan   \n",
       "361           nan     -8.653    52.665     2299                Tom Hickey   \n",
       "\n",
       "                          seller_branch       sellerType  m_totalImages  \\\n",
       "354              Sherry FitzGerald Cork    BRANDED_AGENT         34.000   \n",
       "357                     Forbes Property    BRANDED_AGENT         24.000   \n",
       "358                    DNG John O’Brien  UNBRANDED_AGENT         14.000   \n",
       "359         Sherry FitzGerald New Homes    BRANDED_AGENT         25.000   \n",
       "361  Hickey O'Donoghue Auctioneers Ltd.    BRANDED_AGENT         38.000   \n",
       "\n",
       "     m_hasVideo  m_hasVirtualTour  m_hasBrochure ber_rating  AMV_price  \n",
       "354       False             False          False         A3          0  \n",
       "357       False              True          False         A1          0  \n",
       "358        True             False          False         A3          0  \n",
       "359       False             False          False         A2          0  \n",
       "361       False              True          False         A2          0  "
      ]
     },
     "execution_count": 488,
     "metadata": {},
     "output_type": "execute_result"
    }
   ],
   "source": [
    "df.tail()"
   ]
  },
  {
   "cell_type": "code",
   "execution_count": 489,
   "metadata": {},
   "outputs": [],
   "source": [
    "df.to_csv(\"./output/daft_sligo_v1.csv\", index=False)"
   ]
  }
 ],
 "metadata": {
  "kernelspec": {
   "display_name": "Python 3",
   "language": "python",
   "name": "python3"
  },
  "language_info": {
   "codemirror_mode": {
    "name": "ipython",
    "version": 3
   },
   "file_extension": ".py",
   "mimetype": "text/x-python",
   "name": "python",
   "nbconvert_exporter": "python",
   "pygments_lexer": "ipython3",
   "version": "3.8.2"
  }
 },
 "nbformat": 4,
 "nbformat_minor": 4
}
